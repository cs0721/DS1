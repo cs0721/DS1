{
 "cells": [
  {
   "cell_type": "markdown",
   "metadata": {},
   "source": [
    "## Task 1. Unemployment Rate and House Prices "
   ]
  },
  {
   "cell_type": "code",
   "execution_count": 1,
   "metadata": {},
   "outputs": [],
   "source": [
    "import pandas as pd # importing the panda library and name it as pd\n",
    "import numpy as np # importing the numpy library and name it as np\n",
    "import matplotlib.pyplot as plt # importing matplot library and name it as ply\n",
    "%matplotlib inline \n",
    "from motionchart.motionchart import MotionChart # importing motion chart library\n",
    "import datetime # importing datetime library"
   ]
  },
  {
   "cell_type": "markdown",
   "metadata": {},
   "source": [
    "### Read files"
   ]
  },
  {
   "cell_type": "code",
   "execution_count": 2,
   "metadata": {},
   "outputs": [],
   "source": [
    "erp_reports = pd.read_csv('ERP_by state and gender.csv') # Read ERP_reports csv file - population\n",
    "house_reports = pd.read_csv('House Price Index.csv') # Read House_reports csv file - price index\n",
    "sa4_reports = pd.ExcelFile('SA4 Time Series - October 2016.xls') # Read SA4_reports xls file - unemployment rate\n",
    "\n",
    "#erp_reports\n",
    "#house_reports\n",
    "#sa4_reports"
   ]
  },
  {
   "cell_type": "markdown",
   "metadata": {},
   "source": [
    "### Extract and Rename files"
   ]
  },
  {
   "cell_type": "code",
   "execution_count": 3,
   "metadata": {
    "scrolled": true
   },
   "outputs": [],
   "source": [
    "# Extract the columns for ERP_Reports\n",
    "erp_reports = erp_reports.iloc[:,[0, 19, 20, 21, 22, 23, 24, 25, 26]]\n",
    "\n",
    "#erp_reports\n",
    "\n",
    "# Rename the columns for erp_reports data\n",
    "erp_reports.columns = ['Date', 'NSW', 'VIC', 'QLD', 'SA', 'WA', 'TAS', 'NT', 'ACT']\n",
    "\n",
    "#erp_reports"
   ]
  },
  {
   "cell_type": "code",
   "execution_count": 4,
   "metadata": {},
   "outputs": [],
   "source": [
    "# Rename the columns for house_reports data \n",
    "house_reports.columns = ['Date', 'NSW', 'VIC', 'QLD', 'SA', 'WA', 'TAS', 'NT', 'ACT']\n",
    "\n",
    "# house_reports"
   ]
  },
  {
   "cell_type": "code",
   "execution_count": 5,
   "metadata": {},
   "outputs": [],
   "source": [
    "# Parse the date for the sa4_reports data\n",
    "sa4_reports = sa4_reports.parse('Time Series')\n",
    "\n",
    "# Extract the columns\n",
    "sa4_reports = sa4_reports.iloc[:,[0,1,3]]\n",
    "\n",
    "#sa4_reports\n",
    "\n",
    "# Rename the couluns for sat_reports data\n",
    "sa4_reports.columns = ['State', 'Date', 'Unemployment Rate']\n",
    "\n",
    "#sa4_reports"
   ]
  },
  {
   "cell_type": "markdown",
   "metadata": {},
   "source": [
    "### Change dataframes"
   ]
  },
  {
   "cell_type": "code",
   "execution_count": 6,
   "metadata": {
    "scrolled": false
   },
   "outputs": [],
   "source": [
    "# erp_reports - population\n",
    "\n",
    "# save date data to date_pop\n",
    "date_pop = erp_reports['Date']\n",
    "\n",
    "#type(date_erp)\n",
    "\n",
    "# date column for erp_reports\n",
    "date = []\n",
    "for i in range(len(date_pop)):\n",
    "    date += [date_pop[i]] * 8\n",
    "    \n",
    "#date\n",
    "#len(date)\n",
    "\n",
    "# state column for erp_reports\n",
    "state = ['NSW', 'VIC', 'QLD', 'SA', 'WA', 'TAS', 'NT', 'ACT'] * len(erp_reports)\n",
    "#len(state)\n",
    "\n",
    "# population column for erp_reports\n",
    "population = []\n",
    "for i in range(len(erp_reports)):\n",
    "    for j in range(1,len(erp_reports.iloc[1])):\n",
    "        population.append(erp_reports.iloc[i][j])\n",
    "\n",
    "#len(population)\n",
    "\n",
    "# Create the new dataframe for erp_reports\n",
    "new_erp_reports = pd.DataFrame({'Date' : date, 'State' : state, 'Population': population})\n",
    "\n",
    "#new_erp_reports"
   ]
  },
  {
   "cell_type": "code",
   "execution_count": 7,
   "metadata": {},
   "outputs": [],
   "source": [
    "# house_reports - price index\n",
    "\n",
    "# save date data to date_price\n",
    "date_price = house_reports['Date']\n",
    "#len(date_price)\n",
    "\n",
    "# date column for house_reports\n",
    "date_h = []\n",
    "for i in range (len(house_reports)):\n",
    "    date_h += [date_price[i]] * 8\n",
    "\n",
    "#len(date_h)\n",
    "\n",
    "# state column for house_reports\n",
    "state_h = ['NSW', 'VIC', 'QLD', 'SA', 'WA', 'TAS', 'NT', 'ACT'] * len(house_reports)\n",
    "#len(state_h)\n",
    "\n",
    "# price column for house_reports\n",
    "price = []\n",
    "for i in range (len(house_reports)):\n",
    "    for j in range(1, len(house_reports.iloc[i])):\n",
    "        price.append(house_reports.iloc[i][j])\n",
    "        \n",
    "# create the new dataframe for house_reports\n",
    "new_house_reports = pd.DataFrame({'Date' : date_h, 'State' : state, 'House Price' : price})\n",
    "\n",
    "#new_house_reports"
   ]
  },
  {
   "cell_type": "markdown",
   "metadata": {},
   "source": [
    "### Change time formats"
   ]
  },
  {
   "cell_type": "code",
   "execution_count": 8,
   "metadata": {},
   "outputs": [],
   "source": [
    "# change time format (dd/mm/yy) for erp_reports\n",
    "new_erp_reports.Date = pd.to_datetime(new_erp_reports.Date)\n",
    "new_erp_reports.Date = new_erp_reports.Date.apply(lambda x: datetime.datetime.strftime(x, '%d/%m/%y'))\n",
    "\n",
    "#new_erp_reports\n",
    "\n",
    "# change time format (dd/mm/yy) for house_reports\n",
    "new_house_reports.Date = pd.to_datetime(new_house_reports.Date)\n",
    "new_house_reports.Date = new_house_reports.Date.apply(lambda x: datetime.datetime.strftime(x, '%d/%m/%y'))\n",
    "\n",
    "#new_house_reports\n",
    "\n",
    "# change time format (dd/mm/yy) for sa4_reports\n",
    "sa4_reports.Date = pd.to_datetime(sa4_reports.Date)\n",
    "sa4_reports.Date = sa4_reports.Date.apply(lambda x: datetime.datetime.strftime(x, '%d/%m/%y'))\n",
    "\n",
    "#sa4_reports"
   ]
  },
  {
   "cell_type": "markdown",
   "metadata": {},
   "source": [
    "### Merge the data"
   ]
  },
  {
   "cell_type": "code",
   "execution_count": 129,
   "metadata": {},
   "outputs": [
    {
     "data": {
      "text/html": [
       "<div>\n",
       "<style scoped>\n",
       "    .dataframe tbody tr th:only-of-type {\n",
       "        vertical-align: middle;\n",
       "    }\n",
       "\n",
       "    .dataframe tbody tr th {\n",
       "        vertical-align: top;\n",
       "    }\n",
       "\n",
       "    .dataframe thead th {\n",
       "        text-align: right;\n",
       "    }\n",
       "</style>\n",
       "<table border=\"1\" class=\"dataframe\">\n",
       "  <thead>\n",
       "    <tr style=\"text-align: right;\">\n",
       "      <th></th>\n",
       "      <th>Date</th>\n",
       "      <th>Population</th>\n",
       "      <th>State</th>\n",
       "      <th>House Price</th>\n",
       "      <th>Unemployment Rate</th>\n",
       "    </tr>\n",
       "  </thead>\n",
       "  <tbody>\n",
       "    <tr>\n",
       "      <th>0</th>\n",
       "      <td>01/12/05</td>\n",
       "      <td>6718023</td>\n",
       "      <td>NSW</td>\n",
       "      <td>81.8</td>\n",
       "      <td>5.293757</td>\n",
       "    </tr>\n",
       "    <tr>\n",
       "      <th>1</th>\n",
       "      <td>01/12/05</td>\n",
       "      <td>5023203</td>\n",
       "      <td>VIC</td>\n",
       "      <td>64.0</td>\n",
       "      <td>5.260037</td>\n",
       "    </tr>\n",
       "    <tr>\n",
       "      <th>2</th>\n",
       "      <td>01/12/05</td>\n",
       "      <td>3964175</td>\n",
       "      <td>QLD</td>\n",
       "      <td>75.0</td>\n",
       "      <td>4.863610</td>\n",
       "    </tr>\n",
       "    <tr>\n",
       "      <th>3</th>\n",
       "      <td>01/12/05</td>\n",
       "      <td>1544852</td>\n",
       "      <td>SA</td>\n",
       "      <td>71.6</td>\n",
       "      <td>4.868181</td>\n",
       "    </tr>\n",
       "    <tr>\n",
       "      <th>4</th>\n",
       "      <td>01/12/05</td>\n",
       "      <td>2029936</td>\n",
       "      <td>WA</td>\n",
       "      <td>70.0</td>\n",
       "      <td>4.326411</td>\n",
       "    </tr>\n",
       "  </tbody>\n",
       "</table>\n",
       "</div>"
      ],
      "text/plain": [
       "       Date  Population State  House Price  Unemployment Rate\n",
       "0  01/12/05     6718023   NSW         81.8           5.293757\n",
       "1  01/12/05     5023203   VIC         64.0           5.260037\n",
       "2  01/12/05     3964175   QLD         75.0           4.863610\n",
       "3  01/12/05     1544852    SA         71.6           4.868181\n",
       "4  01/12/05     2029936    WA         70.0           4.326411"
      ]
     },
     "execution_count": 129,
     "metadata": {},
     "output_type": "execute_result"
    }
   ],
   "source": [
    "# merge three prepared data for motionchart \n",
    "motionchart_data = pd.merge(pd.merge(new_erp_reports, new_house_reports), sa4_reports)\n",
    "motionchart_data.head()"
   ]
  },
  {
   "cell_type": "markdown",
   "metadata": {},
   "source": [
    "### Generate the motionchart"
   ]
  },
  {
   "cell_type": "code",
   "execution_count": 10,
   "metadata": {},
   "outputs": [
    {
     "data": {
      "text/html": [
       "<style>\n",
       ".output_wrapper, .output {\n",
       "    height:auto !important;\n",
       "    max-height:1000px;  /* your desired max-height here */\n",
       "}\n",
       ".output_scroll {\n",
       "    box-shadow:none !important;\n",
       "    webkit-box-shadow:none !important;\n",
       "}\n",
       "</style>"
      ],
      "text/plain": [
       "<IPython.core.display.HTML object>"
      ]
     },
     "metadata": {},
     "output_type": "display_data"
    }
   ],
   "source": [
    "%%html\n",
    "<style>\n",
    ".output_wrapper, .output {\n",
    "    height:auto !important;\n",
    "    max-height:1000px;  /* your desired max-height here */\n",
    "}\n",
    ".output_scroll {\n",
    "    box-shadow:none !important;\n",
    "    webkit-box-shadow:none !important;\n",
    "}\n",
    "</style>"
   ]
  },
  {
   "cell_type": "code",
   "execution_count": 11,
   "metadata": {},
   "outputs": [
    {
     "data": {
      "text/html": [
       "\n",
       "        <iframe\n",
       "            width=\"900\"\n",
       "            height=\"700\"\n",
       "            src=\"mc_temp.html\"\n",
       "            frameborder=\"0\"\n",
       "            allowfullscreen\n",
       "        ></iframe>\n",
       "        "
      ],
      "text/plain": [
       "<IPython.lib.display.IFrame at 0x106fa2240>"
      ]
     },
     "metadata": {},
     "output_type": "display_data"
    }
   ],
   "source": [
    "mChart = MotionChart(df = motionchart_data, key = 'Date', x = 'Unemployment Rate', y = 'House Price', \n",
    "                     xscale = 'linear', yscale = 'linear', size = 'Population', color = 'State', \n",
    "                     category = 'State')\n",
    "\n",
    "mChart.to_notebook()"
   ]
  },
  {
   "cell_type": "markdown",
   "metadata": {},
   "source": [
    "### Task1 questions"
   ]
  },
  {
   "cell_type": "code",
   "execution_count": 12,
   "metadata": {},
   "outputs": [
    {
     "data": {
      "image/png": "[encoded data removed]",
      "text/plain": [
       "<matplotlib.figure.Figure at 0x106ff49e8>"
      ]
     },
     "metadata": {},
     "output_type": "display_data"
    }
   ],
   "source": [
    "# q5\n",
    "\n",
    "# Setting up\n",
    "fig, q1 = plt.subplots(figsize=(12,9))\n",
    "\n",
    "# Vic pop\n",
    "vic, = q1.plot(erp_reports['VIC'], label='VIC')\n",
    "# NSW pop\n",
    "nsw, = q1.plot(erp_reports['NSW'], label='NSW')\n",
    "\n",
    "# Legend setup\n",
    "q1.legend(handles=[vic,nsw], loc=1, bbox_to_anchor=(1.25,1)) #bbox_to_anchor moves legends\n",
    "#Title setup\n",
    "plt.title(' Population of VIC, NSW over time')\n",
    "# x-axis setup\n",
    "x_ticks = np.arange(0, 40, 1)\n",
    "q1.set_xticks(x_ticks)\n",
    "plt.xlabel('Quarter')\n",
    "\n",
    "# y-axis setup\n",
    "y_ticks = np.arange(3000000, 10000000, 400000)\n",
    "q1.set_yticks(y_ticks)\n",
    "plt.ylabel('Population')\n",
    "\n",
    "plt.show()\n"
   ]
  },
  {
   "cell_type": "code",
   "execution_count": 13,
   "metadata": {},
   "outputs": [
    {
     "data": {
      "text/html": [
       "<div>\n",
       "<style scoped>\n",
       "    .dataframe tbody tr th:only-of-type {\n",
       "        vertical-align: middle;\n",
       "    }\n",
       "\n",
       "    .dataframe tbody tr th {\n",
       "        vertical-align: top;\n",
       "    }\n",
       "\n",
       "    .dataframe thead th {\n",
       "        text-align: right;\n",
       "    }\n",
       "</style>\n",
       "<table border=\"1\" class=\"dataframe\">\n",
       "  <thead>\n",
       "    <tr style=\"text-align: right;\">\n",
       "      <th></th>\n",
       "      <th>Date</th>\n",
       "      <th>Population</th>\n",
       "      <th>State</th>\n",
       "      <th>House Price</th>\n",
       "      <th>Unemployment Rate</th>\n",
       "    </tr>\n",
       "  </thead>\n",
       "  <tbody>\n",
       "    <tr>\n",
       "      <th>0</th>\n",
       "      <td>01/12/05</td>\n",
       "      <td>6718023</td>\n",
       "      <td>NSW</td>\n",
       "      <td>81.8</td>\n",
       "      <td>5.293757</td>\n",
       "    </tr>\n",
       "    <tr>\n",
       "      <th>1</th>\n",
       "      <td>01/12/05</td>\n",
       "      <td>5023203</td>\n",
       "      <td>VIC</td>\n",
       "      <td>64.0</td>\n",
       "      <td>5.260037</td>\n",
       "    </tr>\n",
       "    <tr>\n",
       "      <th>2</th>\n",
       "      <td>01/12/05</td>\n",
       "      <td>3964175</td>\n",
       "      <td>QLD</td>\n",
       "      <td>75.0</td>\n",
       "      <td>4.863610</td>\n",
       "    </tr>\n",
       "    <tr>\n",
       "      <th>3</th>\n",
       "      <td>01/12/05</td>\n",
       "      <td>1544852</td>\n",
       "      <td>SA</td>\n",
       "      <td>71.6</td>\n",
       "      <td>4.868181</td>\n",
       "    </tr>\n",
       "    <tr>\n",
       "      <th>4</th>\n",
       "      <td>01/12/05</td>\n",
       "      <td>2029936</td>\n",
       "      <td>WA</td>\n",
       "      <td>70.0</td>\n",
       "      <td>4.326411</td>\n",
       "    </tr>\n",
       "    <tr>\n",
       "      <th>5</th>\n",
       "      <td>01/12/05</td>\n",
       "      <td>488098</td>\n",
       "      <td>TAS</td>\n",
       "      <td>79.1</td>\n",
       "      <td>5.962563</td>\n",
       "    </tr>\n",
       "    <tr>\n",
       "      <th>6</th>\n",
       "      <td>01/12/05</td>\n",
       "      <td>207385</td>\n",
       "      <td>NT</td>\n",
       "      <td>60.2</td>\n",
       "      <td>6.004577</td>\n",
       "    </tr>\n",
       "    <tr>\n",
       "      <th>7</th>\n",
       "      <td>01/12/05</td>\n",
       "      <td>333505</td>\n",
       "      <td>ACT</td>\n",
       "      <td>71.7</td>\n",
       "      <td>3.422536</td>\n",
       "    </tr>\n",
       "  </tbody>\n",
       "</table>\n",
       "</div>"
      ],
      "text/plain": [
       "       Date  Population State  House Price  Unemployment Rate\n",
       "0  01/12/05     6718023   NSW         81.8           5.293757\n",
       "1  01/12/05     5023203   VIC         64.0           5.260037\n",
       "2  01/12/05     3964175   QLD         75.0           4.863610\n",
       "3  01/12/05     1544852    SA         71.6           4.868181\n",
       "4  01/12/05     2029936    WA         70.0           4.326411\n",
       "5  01/12/05      488098   TAS         79.1           5.962563\n",
       "6  01/12/05      207385    NT         60.2           6.004577\n",
       "7  01/12/05      333505   ACT         71.7           3.422536"
      ]
     },
     "execution_count": 13,
     "metadata": {},
     "output_type": "execute_result"
    }
   ],
   "source": [
    "#q1\n",
    "temp1 = motionchart_data[:8]\n",
    "temp1"
   ]
  },
  {
   "cell_type": "code",
   "execution_count": 14,
   "metadata": {},
   "outputs": [
    {
     "data": {
      "text/html": [
       "<div>\n",
       "<style scoped>\n",
       "    .dataframe tbody tr th:only-of-type {\n",
       "        vertical-align: middle;\n",
       "    }\n",
       "\n",
       "    .dataframe tbody tr th {\n",
       "        vertical-align: top;\n",
       "    }\n",
       "\n",
       "    .dataframe thead th {\n",
       "        text-align: right;\n",
       "    }\n",
       "</style>\n",
       "<table border=\"1\" class=\"dataframe\">\n",
       "  <thead>\n",
       "    <tr style=\"text-align: right;\">\n",
       "      <th></th>\n",
       "      <th>Date</th>\n",
       "      <th>Population</th>\n",
       "      <th>State</th>\n",
       "      <th>House Price</th>\n",
       "      <th>Unemployment Rate</th>\n",
       "    </tr>\n",
       "  </thead>\n",
       "  <tbody>\n",
       "    <tr>\n",
       "      <th>304</th>\n",
       "      <td>01/06/15</td>\n",
       "      <td>7618241</td>\n",
       "      <td>NSW</td>\n",
       "      <td>149.8</td>\n",
       "      <td>5.845268</td>\n",
       "    </tr>\n",
       "    <tr>\n",
       "      <th>305</th>\n",
       "      <td>01/06/15</td>\n",
       "      <td>5938119</td>\n",
       "      <td>VIC</td>\n",
       "      <td>120.8</td>\n",
       "      <td>6.055538</td>\n",
       "    </tr>\n",
       "    <tr>\n",
       "      <th>306</th>\n",
       "      <td>01/06/15</td>\n",
       "      <td>4779400</td>\n",
       "      <td>QLD</td>\n",
       "      <td>113.7</td>\n",
       "      <td>5.994555</td>\n",
       "    </tr>\n",
       "    <tr>\n",
       "      <th>307</th>\n",
       "      <td>01/06/15</td>\n",
       "      <td>1698594</td>\n",
       "      <td>SA</td>\n",
       "      <td>108.5</td>\n",
       "      <td>7.906160</td>\n",
       "    </tr>\n",
       "    <tr>\n",
       "      <th>308</th>\n",
       "      <td>01/06/15</td>\n",
       "      <td>2591585</td>\n",
       "      <td>WA</td>\n",
       "      <td>113.4</td>\n",
       "      <td>6.003158</td>\n",
       "    </tr>\n",
       "    <tr>\n",
       "      <th>309</th>\n",
       "      <td>01/06/15</td>\n",
       "      <td>516630</td>\n",
       "      <td>TAS</td>\n",
       "      <td>105.7</td>\n",
       "      <td>6.432085</td>\n",
       "    </tr>\n",
       "    <tr>\n",
       "      <th>310</th>\n",
       "      <td>01/06/15</td>\n",
       "      <td>244602</td>\n",
       "      <td>NT</td>\n",
       "      <td>112.6</td>\n",
       "      <td>4.484751</td>\n",
       "    </tr>\n",
       "    <tr>\n",
       "      <th>311</th>\n",
       "      <td>01/06/15</td>\n",
       "      <td>390757</td>\n",
       "      <td>ACT</td>\n",
       "      <td>106.2</td>\n",
       "      <td>4.540913</td>\n",
       "    </tr>\n",
       "  </tbody>\n",
       "</table>\n",
       "</div>"
      ],
      "text/plain": [
       "         Date  Population State  House Price  Unemployment Rate\n",
       "304  01/06/15     7618241   NSW        149.8           5.845268\n",
       "305  01/06/15     5938119   VIC        120.8           6.055538\n",
       "306  01/06/15     4779400   QLD        113.7           5.994555\n",
       "307  01/06/15     1698594    SA        108.5           7.906160\n",
       "308  01/06/15     2591585    WA        113.4           6.003158\n",
       "309  01/06/15      516630   TAS        105.7           6.432085\n",
       "310  01/06/15      244602    NT        112.6           4.484751\n",
       "311  01/06/15      390757   ACT        106.2           4.540913"
      ]
     },
     "execution_count": 14,
     "metadata": {},
     "output_type": "execute_result"
    }
   ],
   "source": [
    "#q1\n",
    "temp2 = motionchart_data[-8:]\n",
    "temp2"
   ]
  },
  {
   "cell_type": "code",
   "execution_count": 128,
   "metadata": {},
   "outputs": [
    {
     "data": {
      "text/plain": [
       "71.675"
      ]
     },
     "execution_count": 128,
     "metadata": {},
     "output_type": "execute_result"
    }
   ],
   "source": [
    "#q1\n",
    "mean1 = temp1.loc[:, 'House Price']\n",
    "count1 = len(mean1)\n",
    "sum = 0\n",
    "for i in mean1:\n",
    "    sum += i\n",
    "avg = sum / count1\n",
    "avg"
   ]
  },
  {
   "cell_type": "code",
   "execution_count": null,
   "metadata": {},
   "outputs": [],
   "source": [
    "#q1\n",
    "mean2 = temp1.loc[:, 'Unemployment Rate']\n",
    "count2 = len(mean2)\n",
    "sum = 0\n",
    "for i in mean2:\n",
    "    sum += i\n",
    "avg = sum / count2\n",
    "avg"
   ]
  },
  {
   "cell_type": "code",
   "execution_count": null,
   "metadata": {},
   "outputs": [],
   "source": [
    "#q1\n",
    "mean3 = temp2.loc[:, 'House Price']\n",
    "count3 = len(mean3)\n",
    "sum = 0\n",
    "for i in mean3:\n",
    "    sum += i\n",
    "avg = sum / count3\n",
    "avg"
   ]
  },
  {
   "cell_type": "code",
   "execution_count": null,
   "metadata": {},
   "outputs": [],
   "source": [
    "#q1\n",
    "mean4 = temp2.loc[:, 'Unemployment Rate']\n",
    "count4 = len(mean4)\n",
    "sum = 0\n",
    "for i in mean4:\n",
    "    sum += i\n",
    "avg = sum / count4\n",
    "avg"
   ]
  },
  {
   "cell_type": "code",
   "execution_count": null,
   "metadata": {},
   "outputs": [],
   "source": [
    "q1\n",
    "# Setting up\n",
    "fig, q1_1 = plt.subplots(figsize=(12,9))\n",
    "\n",
    "# Vic pop\n",
    "vic, = q1_1.plot(house_reports['VIC'], label='VIC')\n",
    "# NSW pop\n",
    "nsw, = q1_1.plot(house_reports['NSW'], label='NSW')\n",
    "# QLD pop\n",
    "qld, = q1_1.plot(house_reports['QLD'], label='QLD')\n",
    "# SA\n",
    "sa, = q1_1.plot(house_reports['SA'], label='SA')\n",
    "# WA\n",
    "wa, = q1_1.plot(house_reports['WA'], label='WA')\n",
    "# NT\n",
    "nt, = q1_1.plot(house_reports['NT'], label='NT')\n",
    "#ACT\n",
    "act, = q1_1.plot(house_reports['ACT'], label='ACT')\n",
    "#TAS\n",
    "tas, = q1_1.plot(house_reports['TAS'], label='TAS')\n",
    "# Legend setup\n",
    "q1_1.legend(handles=[vic,nsw,qld,sa,wa,nt,act,tas], loc=1, bbox_to_anchor=(1.25,1)) #bbox_to_anchor moves legends\n",
    "#Title setup\n",
    "plt.title(' Price Index of States in Australia')\n",
    "# x-axis setup\n",
    "x_ticks = np.arange(0, 40, 1)\n",
    "q1_1.set_xticks(x_ticks)\n",
    "plt.xlabel('Quarter')\n",
    "\n",
    "# y-axis setup\n",
    "y_ticks = np.arange(50, 160, 5)\n",
    "q1_1.set_yticks(y_ticks)\n",
    "plt.ylabel('Price Index')\n",
    "\n",
    "plt.show()"
   ]
  },
  {
   "cell_type": "code",
   "execution_count": null,
   "metadata": {},
   "outputs": [],
   "source": [
    "sa4_reports.head()"
   ]
  },
  {
   "cell_type": "code",
   "execution_count": null,
   "metadata": {},
   "outputs": [],
   "source": [
    "#task1\n",
    "motionchart_data.describe()"
   ]
  },
  {
   "cell_type": "code",
   "execution_count": null,
   "metadata": {},
   "outputs": [],
   "source": [
    "#task1\n",
    "motionchart_data[motionchart_data['State'] == 'TAS'].describe()"
   ]
  },
  {
   "cell_type": "code",
   "execution_count": null,
   "metadata": {},
   "outputs": [],
   "source": [
    "#task1\n",
    "sa4_reports.head()"
   ]
  },
  {
   "cell_type": "code",
   "execution_count": null,
   "metadata": {},
   "outputs": [],
   "source": [
    "#task1\n",
    "motionchart_data[motionchart_data['State'] == 'VIC']"
   ]
  },
  {
   "cell_type": "markdown",
   "metadata": {},
   "source": [
    "## Task 2."
   ]
  },
  {
   "cell_type": "code",
   "execution_count": 91,
   "metadata": {},
   "outputs": [],
   "source": [
    "# Importing csv files\n",
    "household = pd.read_csv('fig-16-water-consumption-in-aus-hh-by-state-and-terr.csv') \n",
    "manufacture = pd.read_csv('fig-14-manuf-water-cons.csv')"
   ]
  },
  {
   "cell_type": "code",
   "execution_count": 94,
   "metadata": {},
   "outputs": [],
   "source": [
    "# Rename the coulum of houshold data\n",
    "household.columns = ['Year', 'New South Wales', 'Victoria', 'Queensland', 'South Australia', 'Western Australia', \n",
    "                     'Tasmania','Northern Territory', 'Australian Capital Territory']"
   ]
  },
  {
   "cell_type": "code",
   "execution_count": 95,
   "metadata": {},
   "outputs": [
    {
     "data": {
      "text/html": [
       "<div>\n",
       "<style scoped>\n",
       "    .dataframe tbody tr th:only-of-type {\n",
       "        vertical-align: middle;\n",
       "    }\n",
       "\n",
       "    .dataframe tbody tr th {\n",
       "        vertical-align: top;\n",
       "    }\n",
       "\n",
       "    .dataframe thead th {\n",
       "        text-align: right;\n",
       "    }\n",
       "</style>\n",
       "<table border=\"1\" class=\"dataframe\">\n",
       "  <thead>\n",
       "    <tr style=\"text-align: right;\">\n",
       "      <th></th>\n",
       "      <th>Year</th>\n",
       "      <th>New South Wales</th>\n",
       "      <th>Victoria</th>\n",
       "      <th>Queensland</th>\n",
       "      <th>South Australia</th>\n",
       "      <th>Western Australia</th>\n",
       "      <th>Tasmania</th>\n",
       "      <th>Northern Territory</th>\n",
       "      <th>Australian Capital Territory</th>\n",
       "    </tr>\n",
       "  </thead>\n",
       "  <tbody>\n",
       "    <tr>\n",
       "      <th>0</th>\n",
       "      <td>2008-09</td>\n",
       "      <td>548</td>\n",
       "      <td>331</td>\n",
       "      <td>340</td>\n",
       "      <td>128</td>\n",
       "      <td>335</td>\n",
       "      <td>69</td>\n",
       "      <td>39</td>\n",
       "      <td>27</td>\n",
       "    </tr>\n",
       "    <tr>\n",
       "      <th>1</th>\n",
       "      <td>2009-10</td>\n",
       "      <td>556</td>\n",
       "      <td>323</td>\n",
       "      <td>356</td>\n",
       "      <td>123</td>\n",
       "      <td>348</td>\n",
       "      <td>73</td>\n",
       "      <td>37</td>\n",
       "      <td>28</td>\n",
       "    </tr>\n",
       "    <tr>\n",
       "      <th>2</th>\n",
       "      <td>2010-11</td>\n",
       "      <td>527</td>\n",
       "      <td>311</td>\n",
       "      <td>311</td>\n",
       "      <td>115</td>\n",
       "      <td>310</td>\n",
       "      <td>69</td>\n",
       "      <td>31</td>\n",
       "      <td>25</td>\n",
       "    </tr>\n",
       "    <tr>\n",
       "      <th>3</th>\n",
       "      <td>2011-12</td>\n",
       "      <td>511</td>\n",
       "      <td>324</td>\n",
       "      <td>345</td>\n",
       "      <td>121</td>\n",
       "      <td>308</td>\n",
       "      <td>56</td>\n",
       "      <td>34</td>\n",
       "      <td>26</td>\n",
       "    </tr>\n",
       "    <tr>\n",
       "      <th>4</th>\n",
       "      <td>2012-13</td>\n",
       "      <td>565</td>\n",
       "      <td>357</td>\n",
       "      <td>359</td>\n",
       "      <td>130</td>\n",
       "      <td>333</td>\n",
       "      <td>39</td>\n",
       "      <td>32</td>\n",
       "      <td>30</td>\n",
       "    </tr>\n",
       "    <tr>\n",
       "      <th>5</th>\n",
       "      <td>2013-14</td>\n",
       "      <td>565</td>\n",
       "      <td>366</td>\n",
       "      <td>370</td>\n",
       "      <td>125</td>\n",
       "      <td>339</td>\n",
       "      <td>38</td>\n",
       "      <td>37</td>\n",
       "      <td>31</td>\n",
       "    </tr>\n",
       "    <tr>\n",
       "      <th>6</th>\n",
       "      <td>2014-15</td>\n",
       "      <td>556</td>\n",
       "      <td>367</td>\n",
       "      <td>376</td>\n",
       "      <td>125</td>\n",
       "      <td>326</td>\n",
       "      <td>37</td>\n",
       "      <td>35</td>\n",
       "      <td>29</td>\n",
       "    </tr>\n",
       "  </tbody>\n",
       "</table>\n",
       "</div>"
      ],
      "text/plain": [
       "      Year  New South Wales  Victoria  Queensland  South Australia  \\\n",
       "0  2008-09              548       331         340              128   \n",
       "1  2009-10              556       323         356              123   \n",
       "2  2010-11              527       311         311              115   \n",
       "3  2011-12              511       324         345              121   \n",
       "4  2012-13              565       357         359              130   \n",
       "5  2013-14              565       366         370              125   \n",
       "6  2014-15              556       367         376              125   \n",
       "\n",
       "   Western Australia  Tasmania  Northern Territory  \\\n",
       "0                335        69                  39   \n",
       "1                348        73                  37   \n",
       "2                310        69                  31   \n",
       "3                308        56                  34   \n",
       "4                333        39                  32   \n",
       "5                339        38                  37   \n",
       "6                326        37                  35   \n",
       "\n",
       "   Australian Capital Territory  \n",
       "0                            27  \n",
       "1                            28  \n",
       "2                            25  \n",
       "3                            26  \n",
       "4                            30  \n",
       "5                            31  \n",
       "6                            29  "
      ]
     },
     "execution_count": 95,
     "metadata": {},
     "output_type": "execute_result"
    }
   ],
   "source": [
    "household"
   ]
  },
  {
   "cell_type": "code",
   "execution_count": 114,
   "metadata": {},
   "outputs": [],
   "source": [
    "# re-formatting household data\n",
    "new_household = pd.melt(household, id_vars=['Year'], value_vars=['New South Wales', 'Victoria', 'Queensland', 'South Australia', 'Western Australia', \n",
    "                     'Tasmania','Northern Territory', 'Australian Capital Territory'],var_name='State')"
   ]
  },
  {
   "cell_type": "code",
   "execution_count": 125,
   "metadata": {},
   "outputs": [
    {
     "data": {
      "text/html": [
       "<div>\n",
       "<style scoped>\n",
       "    .dataframe tbody tr th:only-of-type {\n",
       "        vertical-align: middle;\n",
       "    }\n",
       "\n",
       "    .dataframe tbody tr th {\n",
       "        vertical-align: top;\n",
       "    }\n",
       "\n",
       "    .dataframe thead th {\n",
       "        text-align: right;\n",
       "    }\n",
       "</style>\n",
       "<table border=\"1\" class=\"dataframe\">\n",
       "  <thead>\n",
       "    <tr style=\"text-align: right;\">\n",
       "      <th></th>\n",
       "      <th>Year</th>\n",
       "      <th>State</th>\n",
       "      <th>value</th>\n",
       "    </tr>\n",
       "  </thead>\n",
       "  <tbody>\n",
       "    <tr>\n",
       "      <th>0</th>\n",
       "      <td>2008-09</td>\n",
       "      <td>New South Wales</td>\n",
       "      <td>548</td>\n",
       "    </tr>\n",
       "    <tr>\n",
       "      <th>1</th>\n",
       "      <td>2009-10</td>\n",
       "      <td>New South Wales</td>\n",
       "      <td>556</td>\n",
       "    </tr>\n",
       "    <tr>\n",
       "      <th>2</th>\n",
       "      <td>2010-11</td>\n",
       "      <td>New South Wales</td>\n",
       "      <td>527</td>\n",
       "    </tr>\n",
       "    <tr>\n",
       "      <th>3</th>\n",
       "      <td>2011-12</td>\n",
       "      <td>New South Wales</td>\n",
       "      <td>511</td>\n",
       "    </tr>\n",
       "    <tr>\n",
       "      <th>4</th>\n",
       "      <td>2012-13</td>\n",
       "      <td>New South Wales</td>\n",
       "      <td>565</td>\n",
       "    </tr>\n",
       "  </tbody>\n",
       "</table>\n",
       "</div>"
      ],
      "text/plain": [
       "      Year            State  value\n",
       "0  2008-09  New South Wales    548\n",
       "1  2009-10  New South Wales    556\n",
       "2  2010-11  New South Wales    527\n",
       "3  2011-12  New South Wales    511\n",
       "4  2012-13  New South Wales    565"
      ]
     },
     "execution_count": 125,
     "metadata": {},
     "output_type": "execute_result"
    }
   ],
   "source": [
    "new_household.head()"
   ]
  },
  {
   "cell_type": "code",
   "execution_count": 116,
   "metadata": {},
   "outputs": [
    {
     "data": {
      "text/html": [
       "<div>\n",
       "<style scoped>\n",
       "    .dataframe tbody tr th:only-of-type {\n",
       "        vertical-align: middle;\n",
       "    }\n",
       "\n",
       "    .dataframe tbody tr th {\n",
       "        vertical-align: top;\n",
       "    }\n",
       "\n",
       "    .dataframe thead th {\n",
       "        text-align: right;\n",
       "    }\n",
       "</style>\n",
       "<table border=\"1\" class=\"dataframe\">\n",
       "  <thead>\n",
       "    <tr style=\"text-align: right;\">\n",
       "      <th></th>\n",
       "      <th>Year</th>\n",
       "      <th>New South Wales</th>\n",
       "      <th>Victoria</th>\n",
       "      <th>Queensland</th>\n",
       "      <th>South Australia</th>\n",
       "      <th>Western Australia</th>\n",
       "      <th>Tasmania</th>\n",
       "      <th>Northern Territory</th>\n",
       "      <th>Australian Capital Territory</th>\n",
       "      <th>Australia</th>\n",
       "    </tr>\n",
       "  </thead>\n",
       "  <tbody>\n",
       "    <tr>\n",
       "      <th>0</th>\n",
       "      <td>2008-09</td>\n",
       "      <td>140</td>\n",
       "      <td>143</td>\n",
       "      <td>142</td>\n",
       "      <td>84</td>\n",
       "      <td>60</td>\n",
       "      <td>50</td>\n",
       "      <td>22</td>\n",
       "      <td>0</td>\n",
       "      <td>641</td>\n",
       "    </tr>\n",
       "    <tr>\n",
       "      <th>1</th>\n",
       "      <td>2009-10</td>\n",
       "      <td>141</td>\n",
       "      <td>138</td>\n",
       "      <td>187</td>\n",
       "      <td>76</td>\n",
       "      <td>63</td>\n",
       "      <td>37</td>\n",
       "      <td>18</td>\n",
       "      <td>0</td>\n",
       "      <td>659</td>\n",
       "    </tr>\n",
       "    <tr>\n",
       "      <th>2</th>\n",
       "      <td>2010-11</td>\n",
       "      <td>144</td>\n",
       "      <td>144</td>\n",
       "      <td>147</td>\n",
       "      <td>84</td>\n",
       "      <td>57</td>\n",
       "      <td>50</td>\n",
       "      <td>23</td>\n",
       "      <td>0</td>\n",
       "      <td>651</td>\n",
       "    </tr>\n",
       "    <tr>\n",
       "      <th>3</th>\n",
       "      <td>2011-12</td>\n",
       "      <td>102</td>\n",
       "      <td>113</td>\n",
       "      <td>169</td>\n",
       "      <td>75</td>\n",
       "      <td>53</td>\n",
       "      <td>36</td>\n",
       "      <td>10</td>\n",
       "      <td>1</td>\n",
       "      <td>557</td>\n",
       "    </tr>\n",
       "    <tr>\n",
       "      <th>4</th>\n",
       "      <td>2012-13</td>\n",
       "      <td>123</td>\n",
       "      <td>129</td>\n",
       "      <td>128</td>\n",
       "      <td>79</td>\n",
       "      <td>58</td>\n",
       "      <td>31</td>\n",
       "      <td>10</td>\n",
       "      <td>1</td>\n",
       "      <td>558</td>\n",
       "    </tr>\n",
       "    <tr>\n",
       "      <th>5</th>\n",
       "      <td>2013-14</td>\n",
       "      <td>129</td>\n",
       "      <td>135</td>\n",
       "      <td>139</td>\n",
       "      <td>79</td>\n",
       "      <td>58</td>\n",
       "      <td>31</td>\n",
       "      <td>9</td>\n",
       "      <td>1</td>\n",
       "      <td>581</td>\n",
       "    </tr>\n",
       "    <tr>\n",
       "      <th>6</th>\n",
       "      <td>2014-15</td>\n",
       "      <td>122</td>\n",
       "      <td>140</td>\n",
       "      <td>187</td>\n",
       "      <td>46</td>\n",
       "      <td>61</td>\n",
       "      <td>38</td>\n",
       "      <td>0</td>\n",
       "      <td>0</td>\n",
       "      <td>595</td>\n",
       "    </tr>\n",
       "  </tbody>\n",
       "</table>\n",
       "</div>"
      ],
      "text/plain": [
       "      Year  New South Wales  Victoria  Queensland  South Australia  \\\n",
       "0  2008-09              140       143         142               84   \n",
       "1  2009-10              141       138         187               76   \n",
       "2  2010-11              144       144         147               84   \n",
       "3  2011-12              102       113         169               75   \n",
       "4  2012-13              123       129         128               79   \n",
       "5  2013-14              129       135         139               79   \n",
       "6  2014-15              122       140         187               46   \n",
       "\n",
       "   Western Australia  Tasmania  Northern Territory  \\\n",
       "0                 60        50                  22   \n",
       "1                 63        37                  18   \n",
       "2                 57        50                  23   \n",
       "3                 53        36                  10   \n",
       "4                 58        31                  10   \n",
       "5                 58        31                   9   \n",
       "6                 61        38                   0   \n",
       "\n",
       "   Australian Capital Territory  Australia  \n",
       "0                             0        641  \n",
       "1                             0        659  \n",
       "2                             0        651  \n",
       "3                             1        557  \n",
       "4                             1        558  \n",
       "5                             1        581  \n",
       "6                             0        595  "
      ]
     },
     "execution_count": 116,
     "metadata": {},
     "output_type": "execute_result"
    }
   ],
   "source": [
    "manufacture"
   ]
  },
  {
   "cell_type": "code",
   "execution_count": 117,
   "metadata": {},
   "outputs": [],
   "source": [
    "# re-formatting manufacture data\n",
    "new_manufacture = pd.melt(manufacture, id_vars=['Year'], value_vars=['New South Wales', 'Victoria', 'South Australia',\n",
    "                                                       'Western Australia', 'Tasmania', 'Northern Territory', \n",
    "                                                       'Australian Capital Territory'],var_name='State')"
   ]
  },
  {
   "cell_type": "code",
   "execution_count": 126,
   "metadata": {},
   "outputs": [
    {
     "data": {
      "text/html": [
       "<div>\n",
       "<style scoped>\n",
       "    .dataframe tbody tr th:only-of-type {\n",
       "        vertical-align: middle;\n",
       "    }\n",
       "\n",
       "    .dataframe tbody tr th {\n",
       "        vertical-align: top;\n",
       "    }\n",
       "\n",
       "    .dataframe thead th {\n",
       "        text-align: right;\n",
       "    }\n",
       "</style>\n",
       "<table border=\"1\" class=\"dataframe\">\n",
       "  <thead>\n",
       "    <tr style=\"text-align: right;\">\n",
       "      <th></th>\n",
       "      <th>Year</th>\n",
       "      <th>State</th>\n",
       "      <th>value</th>\n",
       "    </tr>\n",
       "  </thead>\n",
       "  <tbody>\n",
       "    <tr>\n",
       "      <th>0</th>\n",
       "      <td>2008-09</td>\n",
       "      <td>New South Wales</td>\n",
       "      <td>140</td>\n",
       "    </tr>\n",
       "    <tr>\n",
       "      <th>1</th>\n",
       "      <td>2009-10</td>\n",
       "      <td>New South Wales</td>\n",
       "      <td>141</td>\n",
       "    </tr>\n",
       "    <tr>\n",
       "      <th>2</th>\n",
       "      <td>2010-11</td>\n",
       "      <td>New South Wales</td>\n",
       "      <td>144</td>\n",
       "    </tr>\n",
       "    <tr>\n",
       "      <th>3</th>\n",
       "      <td>2011-12</td>\n",
       "      <td>New South Wales</td>\n",
       "      <td>102</td>\n",
       "    </tr>\n",
       "    <tr>\n",
       "      <th>4</th>\n",
       "      <td>2012-13</td>\n",
       "      <td>New South Wales</td>\n",
       "      <td>123</td>\n",
       "    </tr>\n",
       "  </tbody>\n",
       "</table>\n",
       "</div>"
      ],
      "text/plain": [
       "      Year            State  value\n",
       "0  2008-09  New South Wales    140\n",
       "1  2009-10  New South Wales    141\n",
       "2  2010-11  New South Wales    144\n",
       "3  2011-12  New South Wales    102\n",
       "4  2012-13  New South Wales    123"
      ]
     },
     "execution_count": 126,
     "metadata": {},
     "output_type": "execute_result"
    }
   ],
   "source": [
    "new_manufacture.head()"
   ]
  },
  {
   "cell_type": "code",
   "execution_count": 119,
   "metadata": {},
   "outputs": [],
   "source": [
    "# Merge two data\n",
    "usage = pd.merge(new_household, new_manufacture, on = ['Year', 'State'])"
   ]
  },
  {
   "cell_type": "code",
   "execution_count": 120,
   "metadata": {},
   "outputs": [],
   "source": [
    "# Rename the column\n",
    "usage.columns = ['Year', 'State', 'Household', 'Manufacture']"
   ]
  },
  {
   "cell_type": "code",
   "execution_count": 127,
   "metadata": {},
   "outputs": [
    {
     "data": {
      "text/html": [
       "<div>\n",
       "<style scoped>\n",
       "    .dataframe tbody tr th:only-of-type {\n",
       "        vertical-align: middle;\n",
       "    }\n",
       "\n",
       "    .dataframe tbody tr th {\n",
       "        vertical-align: top;\n",
       "    }\n",
       "\n",
       "    .dataframe thead th {\n",
       "        text-align: right;\n",
       "    }\n",
       "</style>\n",
       "<table border=\"1\" class=\"dataframe\">\n",
       "  <thead>\n",
       "    <tr style=\"text-align: right;\">\n",
       "      <th></th>\n",
       "      <th>Year</th>\n",
       "      <th>State</th>\n",
       "      <th>Household</th>\n",
       "      <th>Manufacture</th>\n",
       "    </tr>\n",
       "  </thead>\n",
       "  <tbody>\n",
       "    <tr>\n",
       "      <th>0</th>\n",
       "      <td>2008-09</td>\n",
       "      <td>New South Wales</td>\n",
       "      <td>548</td>\n",
       "      <td>140</td>\n",
       "    </tr>\n",
       "    <tr>\n",
       "      <th>1</th>\n",
       "      <td>2009-10</td>\n",
       "      <td>New South Wales</td>\n",
       "      <td>556</td>\n",
       "      <td>141</td>\n",
       "    </tr>\n",
       "    <tr>\n",
       "      <th>2</th>\n",
       "      <td>2010-11</td>\n",
       "      <td>New South Wales</td>\n",
       "      <td>527</td>\n",
       "      <td>144</td>\n",
       "    </tr>\n",
       "    <tr>\n",
       "      <th>3</th>\n",
       "      <td>2011-12</td>\n",
       "      <td>New South Wales</td>\n",
       "      <td>511</td>\n",
       "      <td>102</td>\n",
       "    </tr>\n",
       "    <tr>\n",
       "      <th>4</th>\n",
       "      <td>2012-13</td>\n",
       "      <td>New South Wales</td>\n",
       "      <td>565</td>\n",
       "      <td>123</td>\n",
       "    </tr>\n",
       "  </tbody>\n",
       "</table>\n",
       "</div>"
      ],
      "text/plain": [
       "      Year            State  Household  Manufacture\n",
       "0  2008-09  New South Wales        548          140\n",
       "1  2009-10  New South Wales        556          141\n",
       "2  2010-11  New South Wales        527          144\n",
       "3  2011-12  New South Wales        511          102\n",
       "4  2012-13  New South Wales        565          123"
      ]
     },
     "execution_count": 127,
     "metadata": {},
     "output_type": "execute_result"
    }
   ],
   "source": [
    "usage.head()"
   ]
  },
  {
   "cell_type": "code",
   "execution_count": null,
   "metadata": {},
   "outputs": [],
   "source": []
  },
  {
   "cell_type": "code",
   "execution_count": 122,
   "metadata": {},
   "outputs": [
    {
     "data": {
      "text/html": [
       "<style>\n",
       ".output_wrapper, .output {\n",
       "    height:auto !important;\n",
       "    max-height:1000px;  /* your desired max-height here */\n",
       "}\n",
       ".output_scroll {\n",
       "    box-shadow:none !important;\n",
       "    webkit-box-shadow:none !important;\n",
       "}\n",
       "</style>"
      ],
      "text/plain": [
       "<IPython.core.display.HTML object>"
      ]
     },
     "metadata": {},
     "output_type": "display_data"
    }
   ],
   "source": [
    "%%html\n",
    "<style>\n",
    ".output_wrapper, .output {\n",
    "    height:auto !important;\n",
    "    max-height:1000px;  /* your desired max-height here */\n",
    "}\n",
    ".output_scroll {\n",
    "    box-shadow:none !important;\n",
    "    webkit-box-shadow:none !important;\n",
    "}\n",
    "</style>"
   ]
  },
  {
   "cell_type": "code",
   "execution_count": 123,
   "metadata": {},
   "outputs": [],
   "source": [
    "# Generate Motion Chart\n",
    "mChart = MotionChart(df = usage, key = 'Year', x = 'Household', y = 'Manufacture', xscale = 'linear', \n",
    "                     yscale = 'linear', size = 'Manufacture', color = 'State', category = 'State')"
   ]
  },
  {
   "cell_type": "code",
   "execution_count": 124,
   "metadata": {},
   "outputs": [
    {
     "data": {
      "text/html": [
       "\n",
       "        <iframe\n",
       "            width=\"900\"\n",
       "            height=\"700\"\n",
       "            src=\"mc_temp.html\"\n",
       "            frameborder=\"0\"\n",
       "            allowfullscreen\n",
       "        ></iframe>\n",
       "        "
      ],
      "text/plain": [
       "<IPython.lib.display.IFrame at 0x111bcbac8>"
      ]
     },
     "metadata": {},
     "output_type": "display_data"
    }
   ],
   "source": [
    "mChart.to_notebook()"
   ]
  },
  {
   "cell_type": "code",
   "execution_count": 130,
   "metadata": {},
   "outputs": [],
   "source": [
    "usage.to_csv('usage.csv')"
   ]
  },
  {
   "cell_type": "code",
   "execution_count": null,
   "metadata": {},
   "outputs": [],
   "source": []
  }
 ],
 "metadata": {
  "kernelspec": {
   "display_name": "Python 3",
   "language": "python",
   "name": "python3"
  },
  "language_info": {
   "codemirror_mode": {
    "name": "ipython",
    "version": 3
   },
   "file_extension": ".py",
   "mimetype": "text/x-python",
   "name": "python",
   "nbconvert_exporter": "python",
   "pygments_lexer": "ipython3",
   "version": "3.6.4"
  }
 },
 "nbformat": 4,
 "nbformat_minor": 2
}
